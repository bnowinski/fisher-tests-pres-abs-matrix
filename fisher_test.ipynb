{
 "cells": [
  {
   "cell_type": "code",
   "execution_count": 1,
   "metadata": {},
   "outputs": [],
   "source": [
    "import os\n",
    "import pandas as pd\n",
    "import seaborn as sns\n",
    "from scipy.stats import fisher_exact\n",
    "import numpy as np\n",
    "import glob\n"
   ]
  },
  {
   "cell_type": "code",
   "execution_count": 86,
   "metadata": {},
   "outputs": [],
   "source": [
    "# define function for making presence/absence table per species\n",
    "def gen_pres_abs(input_path, metadata, metad_col, group1, group2):\n",
    "    pres_abs_table = pd.read_csv(input_path, sep='\\t', index_col=0)\n",
    "    pres_abs_table_T = pres_abs_table.T #transpose\n",
    "    \n",
    "    # merge presence abscence with metadata\n",
    "    pres_ab_md = pd.merge(pres_abs_table_T, metadata, left_index=True, right_index=True)\n",
    "    \n",
    "    # calculate total group 1 and 2 sample numbers tested\n",
    "    md_tot = pres_ab_md[metad_col].value_counts()\n",
    "    group_1_tot = md_tot[group1]\n",
    "    group_2_tot = md_tot[group2]\n",
    "    group_names = [group1, group2]\n",
    "    tot_md_df = pd.DataFrame([group_1_tot, group_2_tot], index=group_names, columns=['total_count'])\n",
    "    \n",
    "    # get list of gene names \n",
    "    gene_names = pres_abs_table_T.columns\n",
    "    \n",
    "    return pres_ab_md, tot_md_df, gene_names\n",
    "    \n",
    "# define contigency table function\n",
    "def make_contig_table(pres_abs_table, tot_md_df, metad_col, gene):\n",
    "    pres_ab_md_contig = pres_abs_table[[gene, metad_col]]\n",
    "    pres_ab_md_contig = pres_ab_md_contig.groupby(by=[metad_col]).sum()\n",
    "    # finish contigency table\n",
    "    pres_ab_md_contig_yes_no = pd.merge(pres_ab_md_contig, tot_md_df, left_index=True, right_index=True)\n",
    "    pres_ab_md_contig_yes_no['no'] = pres_ab_md_contig_yes_no['total_count'] - pres_ab_md_contig_yes_no[gene]\n",
    "    pres_ab_md_contig_yes_no.drop(columns=['total_count'], inplace=True)\n",
    "    return pres_ab_md_contig_yes_no\n",
    "\n",
    "\n",
    "# define fisher calculation for both groups\n",
    "def fisher_test(contig_table, species, group1, group2):\n",
    "    group_1_lofl = contig_table.iloc[[0]].to_numpy().tolist()\n",
    "    group_1_list = []\n",
    "    for item in group_1_lofl:\n",
    "        group_1_list.extend(item)\n",
    "\n",
    "    group_2_lofl = contig_table.iloc[[1]].to_numpy().tolist()\n",
    "    group_2_list = []\n",
    "    for item in group_2_lofl:\n",
    "        group_2_list.extend(item)\n",
    "\n",
    "    table = [group_1_list, group_2_list]\n",
    "    oddsr, p = fisher_exact(table, alternative='two-sided')\n",
    "    \n",
    "    gene_name = contig_table.columns[0]\n",
    "    return gene_name, oddsr, p, species, f'{group1},{group2}'\n"
   ]
  }
 ],
 "metadata": {
  "kernelspec": {
   "display_name": "Python 3",
   "language": "python",
   "name": "python3"
  },
  "language_info": {
   "codemirror_mode": {
    "name": "ipython",
    "version": 3
   },
   "file_extension": ".py",
   "mimetype": "text/x-python",
   "name": "python",
   "nbconvert_exporter": "python",
   "pygments_lexer": "ipython3",
   "version": "3.8.5"
  }
 },
 "nbformat": 4,
 "nbformat_minor": 2
}
